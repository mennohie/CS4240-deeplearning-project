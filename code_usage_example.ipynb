{
 "cells": [
  {
   "cell_type": "code",
   "execution_count": 1,
   "metadata": {},
   "outputs": [
    {
     "data": {
      "text/plain": [
       "device(type='cpu')"
      ]
     },
     "execution_count": 1,
     "metadata": {},
     "output_type": "execute_result"
    }
   ],
   "source": [
    "# import all modules\n",
    "# Third-party\n",
    "import numpy as np\n",
    "import torch\n",
    "\n",
    "# Local files\n",
    "import utilities\n",
    "import train_NN as train\n",
    "import neural_network as net\n",
    "\n",
    "# Choose a device to run on - either CPU or GPU\n",
    "device = torch.device(\"cuda:0\" if torch.cuda.is_available() else \"cpu\")\n",
    "device"
   ]
  },
  {
   "cell_type": "code",
   "execution_count": 2,
   "metadata": {},
   "outputs": [],
   "source": [
    "# Choose a ground truth PDE to analyze\n",
    "a = 4 # PDE parameter\n",
    "\n",
    "# True PDE - Network will satify this PDE at the end of training\n",
    "def pde_fn(x, a):\n",
    "    # PDE: u_xx = -(pi*a)^2.sin(pi*a*x)\n",
    "    u_xx = -(np.pi * a)**2 * np.sin(np.pi * a * x)\n",
    "    return u_xx\n",
    "\n",
    "# True solution - Network will try to learn this\n",
    "def u(x, a):\n",
    "    return np.sin(np.pi * a * x)"
   ]
  },
  {
   "cell_type": "code",
   "execution_count": 3,
   "metadata": {},
   "outputs": [],
   "source": [
    "# Create a dataset by sampling points from the PDE's domain\n",
    "    #1. For the boundaries - subscript u\n",
    "    #2. Inside the domain = residual - subscript r\n",
    "# Here, 1D domain, so boundary is just two points! \n",
    "bc1_coords = np.array([[0.0], \n",
    "                       [0.0]]) \n",
    "\n",
    "bc2_coords = np.array([[1.0], \n",
    "                       [1.0]])\n",
    "\n",
    "dom_coords = np.array([[0.0],\n",
    "                       [1.0]])\n",
    "\n",
    "no_of_data_samples  = 100\n",
    "X_bc1 = dom_coords[0, 0] * np.ones((no_of_data_samples // 2, 1))\n",
    "X_bc2 = dom_coords[1, 0] * np.ones((no_of_data_samples // 2, 1))\n",
    "\n",
    "X_u = np.vstack([X_bc1, X_bc2]) # data for BC\n",
    "Y_u = u(X_u, a) # y data for BC\n",
    "\n",
    "X_r = np.linspace(dom_coords[0, 0],\n",
    "                  dom_coords[1, 0], no_of_data_samples)[:, None] # data for residual\n",
    "Y_r = pde_fn(X_r, a) # y data for residual"
   ]
  },
  {
   "cell_type": "code",
   "execution_count": 4,
   "metadata": {},
   "outputs": [
    {
     "data": {
      "text/plain": [
       "dict_keys(['Loss', 'L_b', 'L_r'])"
      ]
     },
     "execution_count": 4,
     "metadata": {},
     "output_type": "execute_result"
    }
   ],
   "source": [
    "# Define model and a random seed\n",
    "seed = 1\n",
    "max_iterations = 10\n",
    "model = net.PINN(no_of_neurons=50, no_of_h_layers=2)\n",
    "model.to(device)\n",
    "\n",
    "# Train the model -> default SGD with full batch and exponential weight decay\n",
    "save_data_location = './data_ntk/'\n",
    "details = train.train_nn_model(model, train_data=(X_u, Y_u, X_r, Y_r),\n",
    "                            no_iterations=max_iterations, device=device,\n",
    "                            save_data_location=save_data_location,\n",
    "                            save_data_frequency=1)\n",
    "details.keys()"
   ]
  },
  {
   "cell_type": "code",
   "execution_count": 8,
   "metadata": {},
   "outputs": [],
   "source": [
    "# Calculate the eigenvalues\n",
    "import pickle\n",
    "# load the jacobian matrices from hard disk\n",
    "J_u, J_r = pickle.load(open(\"{}/Ju_Jr_{}.p\".format(save_data_location,0),\n",
    "                            'rb'))\n",
    "eigs = utilities.calculate_eigenvalues_from_j(J_u, J_r)"
   ]
  },
  {
   "cell_type": "code",
   "execution_count": 10,
   "metadata": {},
   "outputs": [
    {
     "data": {
      "text/plain": [
       "(100,)"
      ]
     },
     "execution_count": 10,
     "metadata": {},
     "output_type": "execute_result"
    }
   ],
   "source": [
    "eigs"
   ]
  },
  {
   "cell_type": "code",
   "execution_count": null,
   "metadata": {},
   "outputs": [],
   "source": []
  }
 ],
 "metadata": {
  "kernelspec": {
   "display_name": "phd_1",
   "language": "python",
   "name": "python3"
  },
  "language_info": {
   "codemirror_mode": {
    "name": "ipython",
    "version": 3
   },
   "file_extension": ".py",
   "mimetype": "text/x-python",
   "name": "python",
   "nbconvert_exporter": "python",
   "pygments_lexer": "ipython3",
   "version": "3.8.2"
  },
  "orig_nbformat": 4
 },
 "nbformat": 4,
 "nbformat_minor": 2
}
