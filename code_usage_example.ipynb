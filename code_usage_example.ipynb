{
 "cells": [
  {
   "cell_type": "code",
   "execution_count": 1,
   "metadata": {},
   "outputs": [
    {
     "data": {
      "text/plain": [
       "device(type='cuda', index=0)"
      ]
     },
     "execution_count": 1,
     "metadata": {},
     "output_type": "execute_result"
    }
   ],
   "source": [
    "# import all modules\n",
    "# Third-party\n",
    "import numpy as np\n",
    "import torch\n",
    "\n",
    "# Local files\n",
    "import utilities\n",
    "import train_NN as train\n",
    "import neural_network as net\n",
    "\n",
    "# Choose a device to run on - either CPU or GPU\n",
    "device = torch.device(\"cuda:0\" if torch.cuda.is_available() else \"cpu\")\n",
    "device"
   ]
  },
  {
   "cell_type": "code",
   "execution_count": 4,
   "metadata": {},
   "outputs": [],
   "source": [
    "# Choose a ground truth PDE to analyze\n",
    "a = 4 # PDE parameter\n",
    "\n",
    "# True PDE - Network will satify this PDE at the end of training\n",
    "def pde_fn(x, a):\n",
    "    # PDE: u_xx = -(pi*a)^2.sin(pi*a*x)\n",
    "    u_xx = -(np.pi * a)**2 * np.sin(np.pi * a * x)\n",
    "    return u_xx\n",
    "\n",
    "# True solution - Network will try to learn this\n",
    "def u(x, a):\n",
    "    return np.sin(np.pi * a * x)"
   ]
  },
  {
   "cell_type": "code",
   "execution_count": 3,
   "metadata": {},
   "outputs": [],
   "source": [
    "# Create a dataset by sampling points from the PDE's domain\n",
    "    #1. For the boundaries - subscript u\n",
    "    #2. Inside the domain = residual - subscript r\n",
    "# Here, 1D domain, so boundary is just two points! \n",
    "bc1_coords = np.array([[0.0], \n",
    "                       [0.0]]) \n",
    "\n",
    "bc2_coords = np.array([[1.0], \n",
    "                       [1.0]])\n",
    "\n",
    "dom_coords = np.array([[0.0],\n",
    "                       [1.0]])\n",
    "\n",
    "no_of_data_samples  = 100\n",
    "X_bc1 = dom_coords[0, 0] * np.ones((no_of_data_samples // 2, 1))\n",
    "X_bc2 = dom_coords[1, 0] * np.ones((no_of_data_samples // 2, 1))\n",
    "\n",
    "X_u = np.vstack([X_bc1, X_bc2]) # data for BC\n",
    "Y_u = u(X_u, a) # y data for BC\n",
    "\n",
    "X_r = np.linspace(dom_coords[0, 0],\n",
    "                  dom_coords[1, 0], no_of_data_samples)[:, None] # data for residual\n",
    "Y_r = pde_fn(X_r, a) # y data for residual\n",
    "\n",
    "# values for normalizing teh datasets\n",
    "# Normalize the inputs - X_u and X_r - (n_data_points, dimension)\n",
    "mean = X_r.mean(axis=0)  # (1, dim) values\n",
    "std = X_r.std(axis=0)  # (1, dim) values   "
   ]
  },
  {
   "cell_type": "code",
   "execution_count": 5,
   "metadata": {},
   "outputs": [
    {
     "data": {
      "text/plain": [
       "dict_keys(['Loss', 'L_b', 'L_r'])"
      ]
     },
     "execution_count": 5,
     "metadata": {},
     "output_type": "execute_result"
    }
   ],
   "source": [
    "# Define model and a random seed\n",
    "seed = 1\n",
    "max_iterations = 10\n",
    "model = net.PINN(no_of_neurons=50, no_of_h_layers=2,\n",
    "                 mean= mean.item(), std =std.item())\n",
    "model.to(device)\n",
    "\n",
    "# Train the model -> default SGD with full batch and exponential weight decay\n",
    "save_data_location = './data_ntk/'\n",
    "details = train.train_nn_model(model, train_data=(X_u, Y_u, X_r, Y_r),\n",
    "                            no_iterations=max_iterations, device=device,\n",
    "                            save_data_location=save_data_location,\n",
    "                            save_data_frequency=1)\n",
    "details.keys()"
   ]
  },
  {
   "cell_type": "code",
   "execution_count": 6,
   "metadata": {},
   "outputs": [],
   "source": [
    "# Calculate the eigenvalues\n",
    "import pickle\n",
    "# load the jacobian matrices from hard disk\n",
    "J_u, J_r = pickle.load(open(\"{}/Ju_Jr_{}.p\".format(save_data_location,0),\n",
    "                            'rb'))\n",
    "eigs = utilities.calculate_eigenvalues_from_j(J_u, J_r)"
   ]
  },
  {
   "cell_type": "code",
   "execution_count": 7,
   "metadata": {},
   "outputs": [
    {
     "data": {
      "text/plain": [
       "array([ 1.83495878e+03,  6.99428733e+02,  2.46027731e+02,  7.98481723e+01,\n",
       "        6.24142536e+01,  4.82314683e+01,  2.82193289e+01,  2.02984192e+01,\n",
       "        1.44468807e+01,  1.12866252e+01,  1.11835641e+01,  8.85459490e+00,\n",
       "        7.74375464e+00,  7.28499994e+00,  6.05934375e+00,  5.17363676e+00,\n",
       "        5.03138231e+00,  4.47984371e+00,  3.94060239e+00,  3.52129218e+00,\n",
       "        3.17103983e+00,  3.06609110e+00,  2.92966404e+00,  2.79747043e+00,\n",
       "        2.54581318e+00,  2.51543161e+00,  2.24219096e+00,  1.99551531e+00,\n",
       "        1.78071415e+00,  1.65314077e+00,  1.59556050e+00,  1.57105631e+00,\n",
       "        1.43612036e+00,  1.30920007e+00,  1.29983099e+00,  1.18365836e+00,\n",
       "        1.08467656e+00,  1.00052359e+00,  9.41858922e-01,  9.29297467e-01,\n",
       "        8.69570826e-01,  8.19515809e-01,  7.84421988e-01,  7.41826073e-01,\n",
       "        7.30908562e-01,  7.28533554e-01,  6.76516362e-01,  6.45997746e-01,\n",
       "        6.03996906e-01,  5.63073766e-01,  5.50644391e-01,  5.46770148e-01,\n",
       "        5.25022029e-01,  4.55896427e-01,  3.67439179e-01,  3.30928251e-01,\n",
       "        2.42884727e-01,  8.42859669e-02, -1.15098161e-01, -3.66191268e-01,\n",
       "       -4.64664287e-01, -4.85044978e-01, -5.41107736e-01, -5.59088473e-01,\n",
       "       -7.02291551e-01, -7.64358213e-01, -8.88470349e-01, -9.57299775e-01,\n",
       "       -9.77831487e-01, -1.02617845e+00, -1.10185240e+00, -1.10877696e+00,\n",
       "       -1.22021061e+00, -1.34626206e+00, -1.37765325e+00, -1.59422605e+00,\n",
       "       -1.62484060e+00, -1.79531649e+00, -1.89638196e+00, -2.32886588e+00,\n",
       "       -2.87473639e+00, -2.97320603e+00, -3.42439583e+00, -3.44395831e+00,\n",
       "       -3.98750010e+00, -5.71129847e+00, -6.54144918e+00, -8.47087931e+00,\n",
       "       -8.98979155e+00, -9.60769214e+00, -1.23146386e+01, -1.53189601e+01,\n",
       "       -1.64300241e+01, -3.40004233e+01, -3.92466631e+01, -1.50106774e+02,\n",
       "       -1.60164061e+02, -2.51388763e+02, -1.79528045e+03, -9.52624242e+03])"
      ]
     },
     "execution_count": 7,
     "metadata": {},
     "output_type": "execute_result"
    }
   ],
   "source": [
    "eigs"
   ]
  },
  {
   "cell_type": "code",
   "execution_count": null,
   "metadata": {},
   "outputs": [],
   "source": []
  }
 ],
 "metadata": {
  "kernelspec": {
   "display_name": "Python 3 (ipykernel)",
   "language": "python",
   "name": "python3"
  },
  "language_info": {
   "codemirror_mode": {
    "name": "ipython",
    "version": 3
   },
   "file_extension": ".py",
   "mimetype": "text/x-python",
   "name": "python",
   "nbconvert_exporter": "python",
   "pygments_lexer": "ipython3",
   "version": "3.8.10"
  }
 },
 "nbformat": 4,
 "nbformat_minor": 2
}
